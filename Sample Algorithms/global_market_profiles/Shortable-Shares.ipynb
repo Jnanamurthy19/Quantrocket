{
 "cells": [
  {
   "cell_type": "markdown",
   "metadata": {},
   "source": [
    "<img alt=\"QuantRocket logo\" src=\"https://www.quantrocket.com/assets/img/notebook-header-logo.png\">\n",
    "\n",
    "<a href=\"https://www.quantrocket.com/disclaimer/\">Disclaimer</a>"
   ]
  },
  {
   "cell_type": "markdown",
   "metadata": {},
   "source": [
    "# Short Sale Availability\n",
    "\n",
    "This notebook explores the percentage of listings that are shortable by country, above a given dollar volume threshold."
   ]
  },
  {
   "cell_type": "code",
   "execution_count": null,
   "metadata": {},
   "outputs": [],
   "source": [
    "from quantrocket.history import get_historical_prices\n",
    "from quantrocket.fundamental import download_shortable_shares, NoFundamentalData\n",
    "from quantrocket.account import download_exchange_rates\n",
    "import pandas as pd\n",
    "import io"
   ]
  },
  {
   "cell_type": "markdown",
   "metadata": {},
   "source": [
    "Get exchange rates (for converting non-USD stocks to USD dollar volume):"
   ]
  },
  {
   "cell_type": "code",
   "execution_count": null,
   "metadata": {},
   "outputs": [],
   "source": [
    "f = io.StringIO()\n",
    "download_exchange_rates(f, latest=True, base_currencies=\"USD\")\n",
    "rates = pd.read_csv(f)\n",
    "rates = rates.set_index(\"QuoteCurrency\").Rate.to_dict()"
   ]
  },
  {
   "cell_type": "code",
   "execution_count": null,
   "metadata": {},
   "outputs": [],
   "source": [
    "def get_conids(db, start_date, min_dollar_volume=0, max_dollar_volume=None, universes=None):\n",
    "    \"\"\"\n",
    "    Return the list of conids for the db, optionally with average dollar volume above or below the threshold(s).\n",
    "    \"\"\"\n",
    "\n",
    "    prices = get_historical_prices(\n",
    "        db, \n",
    "        start_date=start_date, \n",
    "        universes=universes, \n",
    "        fields=[\"Close\",\"Volume\"], \n",
    "        master_fields=[\"Currency\",\"Multiplier\",\"PriceMagnifier\"])\n",
    "        \n",
    "    closes = prices.loc[\"Close\"]\n",
    "    volumes = prices.loc[\"Volume\"]\n",
    "    currencies = prices.loc[\"Currency\"]\n",
    "    multipliers = prices.loc[\"Multiplier\"].reindex(closes.index, method=\"ffill\")\n",
    "    magnifiers = prices.loc[\"PriceMagnifier\"].reindex(closes.index, method=\"ffill\")\n",
    "    exchange_rates = currencies.applymap(lambda x: rates[x])\n",
    "    exchange_rates = exchange_rates.reindex(closes.index, method=\"ffill\")\n",
    "    closes = closes * multipliers.fillna(1) / magnifiers.fillna(1)\n",
    "    dollar_volumes = closes.div(exchange_rates) * volumes\n",
    "    avg_dollar_volumes = dollar_volumes.mean()\n",
    "    \n",
    "    if min_dollar_volume:\n",
    "        avg_dollar_volumes = avg_dollar_volumes[avg_dollar_volumes >= min_dollar_volume]\n",
    "    if max_dollar_volume:\n",
    "        avg_dollar_volumes = avg_dollar_volumes[avg_dollar_volumes <= max_dollar_volume]\n",
    "    \n",
    "    conids = list(avg_dollar_volumes.index)\n",
    "\n",
    "    return conids"
   ]
  },
  {
   "cell_type": "code",
   "execution_count": null,
   "metadata": {},
   "outputs": [],
   "source": [
    "def get_shortable_universe_size(conids, start_date):\n",
    "    \"\"\"\n",
    "    Queries shortable shares and counts the unique conids.\n",
    "    \"\"\"\n",
    "    f = io.StringIO()\n",
    "    try:\n",
    "        download_shortable_shares(f, conids=conids, start_date=start_date)\n",
    "    except NoFundamentalData:\n",
    "        return 0\n",
    "    else:\n",
    "        return len(pd.read_csv(f).ConId.unique())"
   ]
  },
  {
   "cell_type": "code",
   "execution_count": null,
   "metadata": {},
   "outputs": [],
   "source": [
    "def get_shortable_ratio(db, min_dollar_volume=None, max_dollar_volume=None):\n",
    "    \"\"\"\n",
    "    Divides count of shortable conids by total conids in the last 90 days.\n",
    "    \"\"\"\n",
    "    start_date = pd.Timestamp.today() - pd.Timedelta('90D')\n",
    "    start_date = start_date.date().isoformat()\n",
    "    conids = get_conids(db, start_date, min_dollar_volume=min_dollar_volume, max_dollar_volume=max_dollar_volume)\n",
    "    shortable_size = get_shortable_universe_size(conids, start_date)\n",
    "    return (shortable_size/len(conids)) * 100  "
   ]
  },
  {
   "cell_type": "markdown",
   "metadata": {},
   "source": [
    "Countries for which numbers should be run:"
   ]
  },
  {
   "cell_type": "code",
   "execution_count": null,
   "metadata": {},
   "outputs": [],
   "source": [
    "countries = (\n",
    "    # North America\n",
    "    #(\"usa-stk-1d\", \"United States\"),\n",
    "    #(\"canada-stk-1d\", \"Canada\"),\n",
    "    #(\"mexico-stk-1d\", \"Mexico\"),\n",
    "    \n",
    "    # Asia\n",
    "    (\"australia-stk-1d\", \"Australia\"),\n",
    "    #(\"japan-stk-1d\", \"Japan\"),\n",
    "    #(\"hongkong-stk-1d\", \"Hong Kong\"),\n",
    "    #(\"singapore-stk-1d\", \"Singapore\"),\n",
    "    \n",
    "    # Europe\n",
    "    #(\"spain-stk-1d\", \"Spain\"),\n",
    "    #(\"netherlands-stk-1d\", \"Netherlands\"),\n",
    "    #(\"uk-stk-1d\", \"United Kingdom\"),\n",
    "    #(\"germany-stk-1d\", \"Germany\"),\n",
    "    #(\"france-stk-1d\", \"France\"),\n",
    "    #(\"belgium-stk-1d\", \"Belgium\"),\n",
    "    #(\"swiss-stk-1d\", \"Switzerland\"),\n",
    "    #(\"austria-stk-1d\", \"Austria\"),\n",
    "    #(\"sweden-stk-1d\", \"Sweden\"),\n",
    "    #(\"italy-stk-1d\", \"Italy\"),\n",
    ")"
   ]
  },
  {
   "cell_type": "markdown",
   "metadata": {},
   "source": [
    "Run numbers for each country, first with no dollar volume filter:"
   ]
  },
  {
   "cell_type": "code",
   "execution_count": null,
   "metadata": {},
   "outputs": [],
   "source": [
    "all_countries = {}\n",
    "\n",
    "for db, country in countries:\n",
    "    print(country)\n",
    "    all_countries[country] = get_shortable_ratio(db, min_dollar_volume=0)\n",
    "    \n",
    "shortable_ratios = pd.Series(all_countries, name=\"shortable\").to_frame()\n",
    "shortable_ratios[\"not shortable\"] = 100 - shortable_ratios"
   ]
  },
  {
   "cell_type": "code",
   "execution_count": null,
   "metadata": {},
   "outputs": [],
   "source": [
    "import seaborn as sns\n",
    "import matplotlib.pyplot as plt\n",
    "sns.set(palette=sns.color_palette(\"Reds_r\", n_colors=2))"
   ]
  },
  {
   "cell_type": "code",
   "execution_count": null,
   "metadata": {},
   "outputs": [],
   "source": [
    "ax = shortable_ratios.sort_index().plot(kind=\"bar\", stacked=True, title=\"Percentage of stocks that are shortable\", figsize=(16,6))\n",
    "ax.set_ylabel(\"Percentage of total\")\n",
    "plt.legend(loc='center left', bbox_to_anchor=(1, 0.5))"
   ]
  },
  {
   "cell_type": "markdown",
   "metadata": {},
   "source": [
    "Repeat with a dollar volume threshold of $1M USD."
   ]
  },
  {
   "cell_type": "code",
   "execution_count": null,
   "metadata": {},
   "outputs": [],
   "source": [
    "all_countries = {}\n",
    "\n",
    "for db, country in countries:\n",
    "    print(country)\n",
    "    all_countries[country] = get_shortable_ratio(db, min_dollar_volume=1000000)\n",
    "    \n",
    "shortable_ratios = pd.Series(all_countries, name=\"shortable\").to_frame()\n",
    "shortable_ratios[\"not shortable\"] = 100 - shortable_ratios"
   ]
  },
  {
   "cell_type": "code",
   "execution_count": null,
   "metadata": {},
   "outputs": [],
   "source": [
    "ax = shortable_ratios.sort_index().plot(kind=\"bar\", stacked=True, title=\"Percentage of stocks with average daily dollar volume above $1M that are shortable\", figsize=(16,6))\n",
    "ax.set_ylabel(\"Percentage of total\")\n",
    "plt.legend(loc='center left', bbox_to_anchor=(1, 0.5))"
   ]
  },
  {
   "cell_type": "markdown",
   "metadata": {},
   "source": [
    "Limit to stocks below $1M USD dollar volume:"
   ]
  },
  {
   "cell_type": "code",
   "execution_count": null,
   "metadata": {},
   "outputs": [],
   "source": [
    "all_countries = {}\n",
    "\n",
    "for db, country in countries:\n",
    "    print(country)\n",
    "    all_countries[country] = get_shortable_ratio(db, max_dollar_volume=1000000)\n",
    "    \n",
    "shortable_ratios = pd.Series(all_countries, name=\"shortable\").to_frame()\n",
    "shortable_ratios[\"not shortable\"] = 100 - shortable_ratios"
   ]
  },
  {
   "cell_type": "code",
   "execution_count": null,
   "metadata": {},
   "outputs": [],
   "source": [
    "ax = shortable_ratios.sort_index().plot(kind=\"bar\", stacked=True, title=\"Percentage of stocks with average daily dollar volume below $1M that are shortable\", figsize=(16,6))\n",
    "ax.set_ylabel(\"Percentage of total\")\n",
    "plt.legend(loc='center left', bbox_to_anchor=(1, 0.5))"
   ]
  },
  {
   "cell_type": "markdown",
   "metadata": {},
   "source": [
    "***\n",
    "\n",
    "[Back to Introduction](Introduction.ipynb)"
   ]
  }
 ],
 "metadata": {
  "kernelspec": {
   "display_name": "Python 3",
   "language": "python",
   "name": "python3"
  },
  "language_info": {
   "codemirror_mode": {
    "name": "ipython",
    "version": 3
   },
   "file_extension": ".py",
   "mimetype": "text/x-python",
   "name": "python",
   "nbconvert_exporter": "python",
   "pygments_lexer": "ipython3",
   "version": "3.6.6"
  }
 },
 "nbformat": 4,
 "nbformat_minor": 2
}
