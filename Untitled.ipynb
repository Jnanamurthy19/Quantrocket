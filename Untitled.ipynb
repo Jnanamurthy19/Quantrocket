{
 "cells": [
  {
   "cell_type": "code",
   "execution_count": null,
   "metadata": {},
   "outputs": [],
   "source": [
    "from quantrocket.history import get_historical_prices\n",
    "import quantrocket.db\n",
    "from quantrocket import *\n",
    "\n",
    "\n",
    "#Variables\n",
    "\n",
    "universe = \"australia-stk\"\n",
    "db = \"australia-stk-1day\"\n",
    "start_date = \"2019-01-02\"\n",
    "end_date = \"2019-01-25\"\n",
    "\n",
    "\n",
    "\n",
    "prices = get_historical_prices(db, \n",
    "                               start_date=start_date,\n",
    "                               end_date=end_date, \n",
    "                               universes=universe,\n",
    "                               fields=[\"High\", \"Low\", \"Open\", \"Close\", \"Volume\"])\n",
    "\n",
    "\n",
    "new_prices = prices[prices.loc[\"Open\"] >= 1]\n",
    "\n",
    "opens = new_prices.loc[\"Open\"]\n",
    "closes = new_prices.loc[\"Close\"]\n",
    "highs = new_prices.loc[\"High\"] \n",
    "lows = new_prices.loc[\"Low\"]\n",
    "volumes = prices.loc[\"Volume\"]\n",
    "\n",
    "dollar_volume = (closes * volumes) / 10000000\n",
    "dollar_change = (highs - lows)\n",
    "\n",
    "\n",
    "dollar_change_percentage = (dollar_change / ((opens+closes)/2)) * 100\n",
    "\n",
    "dollar_volume_ranks = dollar_volume.rank(axis=1, method='max', numeric_only=float, na_option='keep', ascending=False, pct=False)\n",
    "\n",
    "dollar_volume_ranks.head()\n",
    "\n",
    "dollar_volume_ranks_sorted = dollar_volume_ranks.sort_values(by=start_date , axis=1)\n",
    "\n",
    "\n",
    "\n",
    "dollar_change_percentage_sorted = dollar_change_percentage.sort_values(by=start_date, axis=1, ascending=False)\n",
    "\n"
   ]
  }
 ],
 "metadata": {
  "kernelspec": {
   "display_name": "Python 3",
   "language": "python",
   "name": "python3"
  },
  "language_info": {
   "codemirror_mode": {
    "name": "ipython",
    "version": 3
   },
   "file_extension": ".py",
   "mimetype": "text/x-python",
   "name": "python",
   "nbconvert_exporter": "python",
   "pygments_lexer": "ipython3",
   "version": "3.6.6"
  }
 },
 "nbformat": 4,
 "nbformat_minor": 2
}
