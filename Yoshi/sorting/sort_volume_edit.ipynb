{
 "cells": [
  {
   "cell_type": "code",
   "execution_count": null,
   "metadata": {},
   "outputs": [],
   "source": [
    "from quantrocket.history import get_historical_prices\n",
    "import quantrocket.db\n",
    "from quantrocket import *\n",
    "\n",
    "\n",
    "\n",
    "\n",
    "\n",
    "#Variables:\n",
    "print(quantrocket.master.list_universes(domain=None))\n",
    "universe = input(\"What Universe Would You like to sort by Volume?\")\n",
    "print(quantrocket.db.list_databases(service='history', codes=None, detail=False, expand=False))\n",
    "\n",
    "db = input(\" What datebase would you like to sort?\")\n",
    "start_date =  input(\"What start date Would you like to sort \" + universe + \" by volume for? YYYY-MM-DD\")\n",
    "end_date = input(\"What end date would you like to sort \" + universe + \"by volume for? YYYY-MM-DD\")\n",
    "\n",
    "\n",
    "\n",
    "\n",
    "\n",
    "\n",
    "\n",
    "#DB = \"australia-stk-1day\"\n",
    "#UNIVERSES = \"australia-stk\"\n",
    "\n",
    "prices = get_historical_prices(db, \n",
    "                               start_date=start_date,\n",
    "                               end_date=end_date, \n",
    "                               universes=universe,\n",
    "                               fields=[\"Close\", \"Volume\"])\n",
    "\n",
    "closes = prices.loc[\"Close\"]\n",
    "volumes = prices.loc[\"Volume\"]\n",
    "dollar_volume = closes * volumes\n",
    "\n",
    "# dollar_volume.head()\n",
    "\n",
    "dollar_volume_ranks = dollar_volume.rank(axis=1, method='max', numeric_only=float, na_option='keep', ascending=False, pct=False)\n",
    "\n",
    "dollar_volume_ranks.head()\n",
    "\n",
    "dollar_volume_ranks_sorted = dollar_volume_ranks.sort_values(by=start_date , axis=1)\n",
    "\n",
    "dollar_volume_ranks_sorted.head()"
   ]
  }
 ],
 "metadata": {
  "kernelspec": {
   "display_name": "Python 3",
   "language": "python",
   "name": "python3"
  },
  "language_info": {
   "codemirror_mode": {
    "name": "ipython",
    "version": 3
   },
   "file_extension": ".py",
   "mimetype": "text/x-python",
   "name": "python",
   "nbconvert_exporter": "python",
   "pygments_lexer": "ipython3",
   "version": "3.6.6"
  }
 },
 "nbformat": 4,
 "nbformat_minor": 2
}
