{
 "cells": [
  {
   "cell_type": "code",
   "execution_count": 208,
   "metadata": {},
   "outputs": [],
   "source": [
    "from quantrocket.history import get_historical_prices"
   ]
  },
  {
   "cell_type": "code",
   "execution_count": 209,
   "metadata": {},
   "outputs": [],
   "source": [
    "prices = get_historical_prices(\"australia-stk-1day\", start_date=\"2019-01-25\", fields=[\"Open\",\"High\",\"Low\",\"Close\", \"Volume\"])"
   ]
  },
  {
   "cell_type": "code",
   "execution_count": 210,
   "metadata": {},
   "outputs": [],
   "source": [
    "opens = prices.loc[\"Open\"]"
   ]
  },
  {
   "cell_type": "code",
   "execution_count": 211,
   "metadata": {},
   "outputs": [],
   "source": [
    "closes = prices.loc[\"Close\"]"
   ]
  },
  {
   "cell_type": "code",
   "execution_count": 212,
   "metadata": {},
   "outputs": [],
   "source": [
    "prior_closes = closes.shift()"
   ]
  },
  {
   "cell_type": "code",
   "execution_count": 213,
   "metadata": {},
   "outputs": [],
   "source": [
    "overnight_returns = (opens - prior_closes) / prior_closes"
   ]
  },
  {
   "cell_type": "code",
   "execution_count": 215,
   "metadata": {},
   "outputs": [
    {
     "data": {
      "text/plain": [
       "[ConId       3882741    4036812    4036818    4036823    4036833    4039707    \\\n",
       " Date                                                                           \n",
       " 2019-01-25       2.34      33.05      72.54      24.74      25.88        NaN   \n",
       " 2019-01-29       2.30      33.74      71.35      24.26      25.29        6.2   \n",
       " 2019-01-30       2.28      34.60      71.24      24.25      25.19        NaN   \n",
       " 2019-01-31       2.26      34.83      69.91      23.86      24.55        NaN   \n",
       " \n",
       " ConId       4081863    4109645    4109651    4109654      ...      347787870  \\\n",
       " Date                                                      ...                  \n",
       " 2019-01-25       2.96      26.19      12.01      80.47    ...          0.750   \n",
       " 2019-01-29       3.19      25.58      12.12      83.53    ...          0.725   \n",
       " 2019-01-30       3.19      25.48      12.31      87.30    ...          0.735   \n",
       " 2019-01-31       3.11      25.03      12.23      87.05    ...          0.725   \n",
       " \n",
       " ConId       348087382  349593258  349593265  349593316  349966803  350190255  \\\n",
       " Date                                                                           \n",
       " 2019-01-25      0.070        NaN      0.018     0.0015       1.31      0.002   \n",
       " 2019-01-29      0.065       0.01      0.017     0.0015        NaN        NaN   \n",
       " 2019-01-30      0.061        NaN      0.018     0.0010       1.39      0.003   \n",
       " 2019-01-31      0.065        NaN      0.018     0.0010       1.39        NaN   \n",
       " \n",
       " ConId       351020231  351060119  351513165  \n",
       " Date                                         \n",
       " 2019-01-25      25.59        NaN        NaN  \n",
       " 2019-01-29      25.65        NaN      0.380  \n",
       " 2019-01-30      25.60      0.001      0.645  \n",
       " 2019-01-31      25.62        NaN      0.550  \n",
       " \n",
       " [4 rows x 2029 columns]]"
      ]
     },
     "execution_count": 215,
     "metadata": {},
     "output_type": "execute_result"
    }
   ],
   "source": [
    "[closes.head(60)]"
   ]
  },
  {
   "cell_type": "code",
   "execution_count": null,
   "metadata": {},
   "outputs": [],
   "source": []
  },
  {
   "cell_type": "code",
   "execution_count": null,
   "metadata": {},
   "outputs": [],
   "source": []
  }
 ],
 "metadata": {
  "kernelspec": {
   "display_name": "Python 3",
   "language": "python",
   "name": "python3"
  },
  "language_info": {
   "codemirror_mode": {
    "name": "ipython",
    "version": 3
   },
   "file_extension": ".py",
   "mimetype": "text/x-python",
   "name": "python",
   "nbconvert_exporter": "python",
   "pygments_lexer": "ipython3",
   "version": "3.6.6"
  }
 },
 "nbformat": 4,
 "nbformat_minor": 2
}
