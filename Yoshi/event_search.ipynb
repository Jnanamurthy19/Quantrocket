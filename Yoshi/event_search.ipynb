{
 "cells": [
  {
   "cell_type": "code",
   "execution_count": 30,
   "metadata": {},
   "outputs": [
    {
     "ename": "ModuleNotFoundError",
     "evalue": "No module named 'plotly'",
     "output_type": "error",
     "traceback": [
      "\u001b[0;31m---------------------------------------------------------------------------\u001b[0m",
      "\u001b[0;31mModuleNotFoundError\u001b[0m                       Traceback (most recent call last)",
      "\u001b[0;32m<ipython-input-30-624b4134cfe4>\u001b[0m in \u001b[0;36m<module>\u001b[0;34m()\u001b[0m\n\u001b[1;32m      3\u001b[0m \u001b[0;32mfrom\u001b[0m \u001b[0mquantrocket\u001b[0m\u001b[0;34m.\u001b[0m\u001b[0mhistory\u001b[0m \u001b[0;32mimport\u001b[0m \u001b[0mget_historical_prices\u001b[0m\u001b[0;34m\u001b[0m\u001b[0m\n\u001b[1;32m      4\u001b[0m \u001b[0;32mimport\u001b[0m \u001b[0mmatplotlib\u001b[0m\u001b[0;34m.\u001b[0m\u001b[0mpyplot\u001b[0m \u001b[0;32mas\u001b[0m \u001b[0mplt\u001b[0m\u001b[0;34m\u001b[0m\u001b[0m\n\u001b[0;32m----> 5\u001b[0;31m \u001b[0;32mfrom\u001b[0m \u001b[0mplotly\u001b[0m\u001b[0;34m.\u001b[0m\u001b[0moffline\u001b[0m \u001b[0;32mimport\u001b[0m \u001b[0miplot\u001b[0m\u001b[0;34m\u001b[0m\u001b[0m\n\u001b[0m\u001b[1;32m      6\u001b[0m \u001b[0;32mimport\u001b[0m \u001b[0mplotly\u001b[0m\u001b[0;34m.\u001b[0m\u001b[0moffline\u001b[0m \u001b[0;32mas\u001b[0m \u001b[0mpy\u001b[0m\u001b[0;34m\u001b[0m\u001b[0m\n\u001b[1;32m      7\u001b[0m \u001b[0;32mimport\u001b[0m \u001b[0mplotly\u001b[0m\u001b[0;34m.\u001b[0m\u001b[0mgraph_objs\u001b[0m \u001b[0;32mas\u001b[0m \u001b[0mgo\u001b[0m\u001b[0;34m\u001b[0m\u001b[0m\n",
      "\u001b[0;31mModuleNotFoundError\u001b[0m: No module named 'plotly'"
     ]
    }
   ],
   "source": [
    "import datetime\n",
    "import pandas as pd\n",
    "from quantrocket.history import get_historical_prices\n",
    "import matplotlib.pyplot as plt\n",
    "\n"
   ]
  },
  {
   "cell_type": "code",
   "execution_count": 28,
   "metadata": {},
   "outputs": [],
   "source": [
    "import datetime\n",
    "date = input('\\nEnter date of stock offering \"yyyy-mm-dd\"\\n\\n')\n",
    "newdate = datetime.datetime.strptime(date, '%Y-%m-%d')\n",
    "dateplusmonth = newdate + datetime.timedelta(1*365/12)\n",
    "dateminusmonth = newdate - datetime.timedelta(1*365/12)\n",
    "end_date = datetime.datetime.strftime(dateplusmonth, '%Y-%m-%d')\n",
    "start_date = datetime.datetime.strftime(dateminusmonth, '%Y-%m-%d')\n"
   ]
  },
  {
   "cell_type": "code",
   "execution_count": 25,
   "metadata": {},
   "outputs": [
    {
     "name": "stdout",
     "output_type": "stream",
     "text": [
      "ConId       173134575\n",
      "Date                 \n",
      "2018-05-07     0.0345\n",
      "2018-05-08     0.0360\n",
      "2018-05-09     0.0350\n",
      "2018-05-10     0.0360\n",
      "2018-05-11     0.0380\n",
      "2018-05-14     0.0370\n",
      "2018-05-15     0.0375\n",
      "2018-05-16     0.0365\n",
      "2018-05-17     0.0365\n",
      "2018-05-18     0.0360\n",
      "2018-05-21     0.0360\n",
      "2018-05-22     0.0345\n",
      "2018-05-23     0.0330\n",
      "2018-05-24     0.0360\n",
      "2018-05-25     0.0360\n",
      "2018-05-28     0.0335\n",
      "2018-05-31     0.0330\n",
      "2018-06-01     0.0310\n",
      "2018-06-04     0.0300\n",
      "2018-06-05     0.0295\n",
      "2018-06-06     0.0295\n",
      "2018-06-07     0.0270\n",
      "2018-06-08     0.0275\n",
      "2018-06-12     0.0275\n",
      "2018-06-13     0.0260\n",
      "2018-06-14     0.0255\n",
      "2018-06-15     0.0260\n",
      "2018-06-18     0.0255\n",
      "2018-06-19     0.0260\n",
      "2018-06-20     0.0260\n",
      "2018-06-21     0.0260\n",
      "2018-06-22     0.0270\n",
      "2018-06-25     0.0255\n",
      "2018-06-26     0.0245\n",
      "2018-06-27     0.0235\n",
      "2018-06-28     0.0225\n",
      "2018-06-29     0.0235\n",
      "2018-07-02     0.0255\n",
      "2018-07-03     0.0265\n",
      "2018-07-04     0.0260\n",
      "2018-07-05     0.0260\n",
      "2018-07-06     0.0260\n"
     ]
    }
   ],
   "source": [
    "code = \"CVT\"\n",
    "\n",
    "#search for stock conid\n",
    "df = pd.read_csv('master.csv', index_col = \"Symbol\")\n",
    "row = df.loc[code]\n",
    "conid = row[0]\n",
    "\n",
    "\n",
    "db = \"australia-stk-1day\"\n",
    "\n",
    "\n",
    "stk_prices = get_historical_prices(db,\n",
    "                                conids=[conid],\n",
    "                               start_date=start_date,\n",
    "                               end_date=end_date)\n",
    "\n",
    "\n",
    "\n",
    "opens = stk_prices.loc[\"Open\"]\n",
    "closes = stk_prices.loc[\"Close\"]\n",
    "\n",
    "print(closes)"
   ]
  },
  {
   "cell_type": "code",
   "execution_count": 29,
   "metadata": {},
   "outputs": [
    {
     "data": {
      "image/png": "[encoded data removed]",
      "text/plain": [
       "<Figure size 432x288 with 1 Axes>"
      ]
     },
     "metadata": {},
     "output_type": "display_data"
    }
   ],
   "source": [
    "plt.plot(closes)\n",
    "plt.show()"
   ]
  },
  {
   "cell_type": "code",
   "execution_count": 34,
   "metadata": {},
   "outputs": [],
   "source": [
    "from plotly.offline import iplot\n",
    "import plotly.offline as py\n",
    "import plotly.graph_objs as go"
   ]
  },
  {
   "cell_type": "code",
   "execution_count": null,
   "metadata": {},
   "outputs": [],
   "source": []
  },
  {
   "cell_type": "code",
   "execution_count": null,
   "metadata": {},
   "outputs": [],
   "source": []
  },
  {
   "cell_type": "code",
   "execution_count": null,
   "metadata": {},
   "outputs": [],
   "source": []
  },
  {
   "cell_type": "code",
   "execution_count": null,
   "metadata": {},
   "outputs": [],
   "source": []
  },
  {
   "cell_type": "code",
   "execution_count": null,
   "metadata": {},
   "outputs": [],
   "source": []
  },
  {
   "cell_type": "code",
   "execution_count": null,
   "metadata": {},
   "outputs": [],
   "source": []
  },
  {
   "cell_type": "code",
   "execution_count": null,
   "metadata": {},
   "outputs": [],
   "source": []
  },
  {
   "cell_type": "code",
   "execution_count": 16,
   "metadata": {},
   "outputs": [
    {
     "name": "stdout",
     "output_type": "stream",
     "text": [
      "<class 'pandas.core.frame.DataFrame'>\n",
      "DatetimeIndex: 42 entries, 2018-05-07 to 2018-07-06\n",
      "Data columns (total 1 columns):\n",
      "173134575    42 non-null float64\n",
      "dtypes: float64(1)\n",
      "memory usage: 672.0 bytes\n"
     ]
    }
   ],
   "source": [
    "avg.info()"
   ]
  }
 ],
 "metadata": {
  "kernelspec": {
   "display_name": "Python 3",
   "language": "python",
   "name": "python3"
  },
  "language_info": {
   "codemirror_mode": {
    "name": "ipython",
    "version": 3
   },
   "file_extension": ".py",
   "mimetype": "text/x-python",
   "name": "python",
   "nbconvert_exporter": "python",
   "pygments_lexer": "ipython3",
   "version": "3.6.6"
  }
 },
 "nbformat": 4,
 "nbformat_minor": 2
}
