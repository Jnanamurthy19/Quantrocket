{
 "cells": [
  {
   "cell_type": "markdown",
   "metadata": {},
   "source": [
    "List all universes:"
   ]
  },
  {
   "cell_type": "code",
   "execution_count": 42,
   "metadata": {},
   "outputs": [
    {
     "name": "stdout",
     "output_type": "stream",
     "text": [
      "australia-stk: 2458\n",
      "australia-stk-100-120: 20\n",
      "australia-stk-top50: 49\n"
     ]
    }
   ],
   "source": [
    "!quantrocket master list-universes"
   ]
  },
  {
   "cell_type": "markdown",
   "metadata": {},
   "source": [
    "List all databases:"
   ]
  },
  {
   "cell_type": "code",
   "execution_count": 2,
   "metadata": {},
   "outputs": [
    {
     "name": "stdout",
     "output_type": "stream",
     "text": [
      "quantrocket.history.australia-stk-1day.sqlite\n",
      "quantrocket.history.australia-stk-1min.sqlite\n",
      "quantrocket.history.australia-stk-1second.sqlite\n",
      "quantrocket.history.availability.sqlite\n",
      "quantrocket.history.end-auction-cba-2.sqlite\n",
      "quantrocket.history.end-auction-cba.sqlite\n"
     ]
    }
   ],
   "source": [
    "!quantrocket db list history"
   ]
  },
  {
   "cell_type": "markdown",
   "metadata": {},
   "source": [
    "Check IB Gateway status:"
   ]
  },
  {
   "cell_type": "code",
   "execution_count": 10,
   "metadata": {},
   "outputs": [
    {
     "name": "stdout",
     "output_type": "stream",
     "text": [
      "ibg1:\n",
      "  status: running\n",
      "ibg2:\n",
      "  status: stopped\n"
     ]
    }
   ],
   "source": [
    "!quantrocket launchpad status"
   ]
  },
  {
   "cell_type": "markdown",
   "metadata": {},
   "source": [
    "Stop IB Gateway:"
   ]
  },
  {
   "cell_type": "code",
   "execution_count": 29,
   "metadata": {},
   "outputs": [
    {
     "name": "stdout",
     "output_type": "stream",
     "text": [
      "status: the gateways will be stopped asynchronously\n"
     ]
    }
   ],
   "source": [
    "!quantrocket launchpad stop"
   ]
  },
  {
   "cell_type": "markdown",
   "metadata": {},
   "source": [
    "Start IB Gateway:"
   ]
  },
  {
   "cell_type": "code",
   "execution_count": 32,
   "metadata": {},
   "outputs": [
    {
     "name": "stdout",
     "output_type": "stream",
     "text": [
      "status: the gateways will be started asynchronously\n"
     ]
    }
   ],
   "source": [
    "!quantrocket launchpad start"
   ]
  },
  {
   "cell_type": "markdown",
   "metadata": {},
   "source": [
    "Check History queue:"
   ]
  },
  {
   "cell_type": "raw",
   "metadata": {},
   "source": []
  },
  {
   "cell_type": "code",
   "execution_count": 11,
   "metadata": {},
   "outputs": [
    {
     "name": "stdout",
     "output_type": "stream",
     "text": [
      "priority: []\n",
      "standard:\n",
      "- australia-stk-1min\n",
      "- australia-stk-1day\n"
     ]
    }
   ],
   "source": [
    "!quantrocket history queue"
   ]
  },
  {
   "cell_type": "code",
   "execution_count": null,
   "metadata": {},
   "outputs": [],
   "source": []
  },
  {
   "cell_type": "markdown",
   "metadata": {},
   "source": [
    "DELETE DATABASE"
   ]
  },
  {
   "cell_type": "markdown",
   "metadata": {},
   "source": [
    "quantrocket history drop-db 'CODE' --confirm-by-typing-db-code-again 'CODE'"
   ]
  },
  {
   "cell_type": "code",
   "execution_count": null,
   "metadata": {},
   "outputs": [],
   "source": []
  },
  {
   "cell_type": "code",
   "execution_count": null,
   "metadata": {},
   "outputs": [],
   "source": []
  }
 ],
 "metadata": {
  "kernelspec": {
   "display_name": "Python 3",
   "language": "python",
   "name": "python3"
  },
  "language_info": {
   "codemirror_mode": {
    "name": "ipython",
    "version": 3
   },
   "file_extension": ".py",
   "mimetype": "text/x-python",
   "name": "python",
   "nbconvert_exporter": "python",
   "pygments_lexer": "ipython3",
   "version": "3.6.6"
  }
 },
 "nbformat": 4,
 "nbformat_minor": 2
}
