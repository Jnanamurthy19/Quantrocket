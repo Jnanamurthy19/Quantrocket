{
 "cells": [
  {
   "cell_type": "code",
   "execution_count": 66,
   "metadata": {},
   "outputs": [
    {
     "ename": "NameError",
     "evalue": "name 'df' is not defined",
     "output_type": "error",
     "traceback": [
      "\u001b[0;31m---------------------------------------------------------------------------\u001b[0m",
      "\u001b[0;31mNameError\u001b[0m                                 Traceback (most recent call last)",
      "\u001b[0;32m<ipython-input-66-2a39492ce0be>\u001b[0m in \u001b[0;36m<module>\u001b[0;34m()\u001b[0m\n\u001b[1;32m     40\u001b[0m \u001b[0mdollar_change_percentage_sorted\u001b[0m\u001b[0;34m.\u001b[0m\u001b[0mhead\u001b[0m\u001b[0;34m(\u001b[0m\u001b[0;36m50\u001b[0m\u001b[0;34m)\u001b[0m\u001b[0;34m\u001b[0m\u001b[0m\n\u001b[1;32m     41\u001b[0m \u001b[0;34m\u001b[0m\u001b[0m\n\u001b[0;32m---> 42\u001b[0;31m \u001b[0mdf\u001b[0m\u001b[0;34m.\u001b[0m\u001b[0mprices\u001b[0m\u001b[0;34m.\u001b[0m\u001b[0mdescribe\u001b[0m\u001b[0;34m(\u001b[0m\u001b[0;34m)\u001b[0m\u001b[0;34m\u001b[0m\u001b[0m\n\u001b[0m",
      "\u001b[0;31mNameError\u001b[0m: name 'df' is not defined"
     ]
    }
   ],
   "source": [
    "from quantrocket.history import get_historical_prices\n",
    "import quantrocket.db\n",
    "from quantrocket import *\n",
    "\n",
    "\n",
    "#Variables\n",
    "\n",
    "universe = \"australia-stk\"\n",
    "db = \"australia-stk-1day\"\n",
    "start_date = \"2019-01-02\"\n",
    "end_date = \"2019-01-25\"\n",
    "\n",
    "\n",
    "\n",
    "prices = get_historical_prices(db, \n",
    "                               start_date=start_date,\n",
    "                               end_date=end_date, \n",
    "                               universes=universe,\n",
    "                               fields=[\"High\", \"Low\", \"Open\", \"Close\"])\n",
    "\n",
    "\n",
    "new_prices = prices[prices.loc[\"Open\"] >= 0.1]\n",
    "\n",
    "opens = new_prices.loc[\"Open\"]\n",
    "closes = new_prices.loc[\"Close\"]\n",
    "highs = new_prices.loc[\"High\"] \n",
    "lows = new_prices.loc[\"Low\"]\n",
    "\n",
    "dollar_change = (highs - lows)\n",
    "\n",
    "#dollar_change.head()\n",
    "\n",
    "dollar_change_percentage = (dollar_change / ((opens+closes)/2)) * 100\n",
    "\n",
    "#dollar_change_percentage.head()\n",
    "\n",
    "\n",
    "dollar_change_percentage_sorted = dollar_change_percentage.sort_values(by=start_date, axis=1, ascending=False)\n",
    "\n",
    "dollar_change_percentage_sorted.head(50)\n",
    "\n",
    "df.prices.describe()\n"
   ]
  },
  {
   "cell_type": "code",
   "execution_count": null,
   "metadata": {},
   "outputs": [],
   "source": [
    "pri"
   ]
  }
 ],
 "metadata": {
  "kernelspec": {
   "display_name": "Python 3",
   "language": "python",
   "name": "python3"
  },
  "language_info": {
   "codemirror_mode": {
    "name": "ipython",
    "version": 3
   },
   "file_extension": ".py",
   "mimetype": "text/x-python",
   "name": "python",
   "nbconvert_exporter": "python",
   "pygments_lexer": "ipython3",
   "version": "3.6.6"
  }
 },
 "nbformat": 4,
 "nbformat_minor": 2
}
