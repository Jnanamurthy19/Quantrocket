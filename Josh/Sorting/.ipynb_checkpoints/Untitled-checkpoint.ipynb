{
 "cells": [
  {
   "cell_type": "code",
   "execution_count": 4,
   "metadata": {},
   "outputs": [
    {
     "ename": "TypeError",
     "evalue": "'>' not supported between instances of '_LocIndexer' and 'int'",
     "output_type": "error",
     "traceback": [
      "\u001b[0;31m---------------------------------------------------------------------------\u001b[0m",
      "\u001b[0;31mTypeError\u001b[0m                                 Traceback (most recent call last)",
      "\u001b[0;32m<ipython-input-4-892d568d1e8e>\u001b[0m in \u001b[0;36m<module>\u001b[0;34m()\u001b[0m\n\u001b[1;32m     35\u001b[0m \u001b[0;31m#dollar_change_percentage.head()\u001b[0m\u001b[0;34m\u001b[0m\u001b[0;34m\u001b[0m\u001b[0m\n\u001b[1;32m     36\u001b[0m \u001b[0;34m\u001b[0m\u001b[0m\n\u001b[0;32m---> 37\u001b[0;31m \u001b[0mwarm_change\u001b[0m \u001b[0;34m=\u001b[0m \u001b[0;34m(\u001b[0m\u001b[0mdollar_change_percentage\u001b[0m\u001b[0;34m.\u001b[0m\u001b[0mloc\u001b[0m \u001b[0;34m>\u001b[0m \u001b[0;36m5\u001b[0m\u001b[0;34m)\u001b[0m\u001b[0;34m\u001b[0m\u001b[0m\n\u001b[0m\u001b[1;32m     38\u001b[0m \u001b[0;34m\u001b[0m\u001b[0m\n\u001b[1;32m     39\u001b[0m \u001b[0mdollar_change_percentage_sorted\u001b[0m \u001b[0;34m=\u001b[0m \u001b[0mwarm_change\u001b[0m\u001b[0;34m.\u001b[0m\u001b[0msort_values\u001b[0m\u001b[0;34m(\u001b[0m\u001b[0mby\u001b[0m\u001b[0;34m=\u001b[0m\u001b[0mstart_date\u001b[0m\u001b[0;34m,\u001b[0m \u001b[0maxis\u001b[0m\u001b[0;34m=\u001b[0m\u001b[0;36m1\u001b[0m\u001b[0;34m,\u001b[0m \u001b[0mascending\u001b[0m\u001b[0;34m=\u001b[0m\u001b[0;32mFalse\u001b[0m\u001b[0;34m)\u001b[0m\u001b[0;34m\u001b[0m\u001b[0m\n",
      "\u001b[0;31mTypeError\u001b[0m: '>' not supported between instances of '_LocIndexer' and 'int'"
     ]
    }
   ],
   "source": [
    "from quantrocket.history import get_historical_prices\n",
    "import quantrocket.db\n",
    "from quantrocket import *\n",
    "\n",
    "\n",
    "#Variables\n",
    "\n",
    "universe = \"australia-stk\"\n",
    "db = \"australia-stk-1day\"\n",
    "start_date = \"2019-01-02\"\n",
    "end_date = \"2019-01-25\"\n",
    "\n",
    "\n",
    "\n",
    "prices = get_historical_prices(db, \n",
    "                               start_date=start_date,\n",
    "                               end_date=end_date, \n",
    "                               universes=universe,\n",
    "                               fields=[\"High\", \"Low\", \"Open\", \"Close\"])\n",
    "\n",
    "\n",
    "new_prices = prices[prices.loc[\"Open\"] >= 0.1]\n",
    "\n",
    "opens = new_prices.loc[\"Open\"]\n",
    "closes = new_prices.loc[\"Close\"]\n",
    "highs = new_prices.loc[\"High\"] \n",
    "lows = new_prices.loc[\"Low\"]\n",
    "\n",
    "dollar_change = (highs - lows)\n",
    "\n",
    "#dollar_change.head()\n",
    "\n",
    "dollar_change_percentage = (dollar_change / ((opens+closes)/2)) * 100\n",
    "\n",
    "#dollar_change_percentage.head()\n",
    "\n",
    "warm_change = (dollar_change_percentage.loc > 5)\n",
    "\n",
    "dollar_change_percentage_sorted = warm_change.sort_values(by=start_date, axis=1, ascending=False)\n",
    "\n",
    "dollar_change_percentage_sorted.head(50)\n"
   ]
  },
  {
   "cell_type": "code",
   "execution_count": null,
   "metadata": {},
   "outputs": [],
   "source": []
  }
 ],
 "metadata": {
  "kernelspec": {
   "display_name": "Python 3",
   "language": "python",
   "name": "python3"
  },
  "language_info": {
   "codemirror_mode": {
    "name": "ipython",
    "version": 3
   },
   "file_extension": ".py",
   "mimetype": "text/x-python",
   "name": "python",
   "nbconvert_exporter": "python",
   "pygments_lexer": "ipython3",
   "version": "3.6.6"
  }
 },
 "nbformat": 4,
 "nbformat_minor": 2
}
