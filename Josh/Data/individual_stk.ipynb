{
 "cells": [
  {
   "cell_type": "code",
   "execution_count": 1,
   "metadata": {},
   "outputs": [],
   "source": [
    "from quantrocket.history import get_historical_prices\n",
    "import numpy as np\n",
    "import pandas as pd"
   ]
  },
  {
   "cell_type": "code",
   "execution_count": 4,
   "metadata": {},
   "outputs": [],
   "source": [
    "entry = input('\\nEnter conid or stk code to find (\"ctrl c\" to cancel)\\n\\n')"
   ]
  },
  {
   "cell_type": "code",
   "execution_count": 5,
   "metadata": {},
   "outputs": [],
   "source": [
    "date = input('\\nEnter date of most recent business day \"yyyy-mm-dd\"\\n\\n')"
   ]
  },
  {
   "cell_type": "code",
   "execution_count": 7,
   "metadata": {},
   "outputs": [],
   "source": [
    "prices = get_historical_prices(\"australia-stk-1day\", start_date=date, fields=[\"Open\"])"
   ]
  },
  {
   "cell_type": "code",
   "execution_count": 8,
   "metadata": {},
   "outputs": [],
   "source": [
    "opens = prices.loc[\"Open\"]"
   ]
  },
  {
   "cell_type": "code",
   "execution_count": 12,
   "metadata": {},
   "outputs": [
    {
     "name": "stdout",
     "output_type": "stream",
     "text": [
      "\n",
      "open: \n",
      "Date\n",
      "2019-02-06    2.45\n",
      "2019-02-07    2.43\n",
      "2019-02-08    2.48\n",
      "2019-02-11    2.44\n",
      "2019-02-12    2.40\n",
      "2019-02-13    2.45\n",
      "2019-02-14    2.36\n",
      "2019-02-15     NaN\n",
      "Name: 3882741, dtype: float64\n"
     ]
    }
   ],
   "source": [
    "print(\"\\nopen: \")\n",
    "print(opens[int(entry)])"
   ]
  },
  {
   "cell_type": "code",
   "execution_count": null,
   "metadata": {},
   "outputs": [],
   "source": []
  }
 ],
 "metadata": {
  "kernelspec": {
   "display_name": "Python 3",
   "language": "python",
   "name": "python3"
  },
  "language_info": {
   "codemirror_mode": {
    "name": "ipython",
    "version": 3
   },
   "file_extension": ".py",
   "mimetype": "text/x-python",
   "name": "python",
   "nbconvert_exporter": "python",
   "pygments_lexer": "ipython3",
   "version": "3.6.6"
  }
 },
 "nbformat": 4,
 "nbformat_minor": 2
}
