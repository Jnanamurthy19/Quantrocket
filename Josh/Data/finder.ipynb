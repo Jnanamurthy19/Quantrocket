{
 "cells": [
  {
   "cell_type": "code",
   "execution_count": 1,
   "metadata": {},
   "outputs": [],
   "source": [
    "import csv\n",
    "import sys\n",
    "\n",
    "#input number you want to search\n",
    "number = input('Enter number to find\\n')"
   ]
  },
  {
   "cell_type": "code",
   "execution_count": 2,
   "metadata": {},
   "outputs": [],
   "source": [
    "#read csv, and split on \",\" the line\n",
    "csv_file = csv.reader(open('master.csv', \"r\"), delimiter=\",\")"
   ]
  },
  {
   "cell_type": "code",
   "execution_count": 3,
   "metadata": {},
   "outputs": [
    {
     "name": "stdout",
     "output_type": "stream",
     "text": [
      "conid: 56829550\n",
      "symbol: MKB\n",
      "name: MOKO SOCIAL MEDIA LTD\n",
      "sectype: STK\n",
      "exchange: ASX\n"
     ]
    }
   ],
   "source": [
    "#loop through csv list\n",
    "for row in csv_file:\n",
    "    #if current rows 2nd value is equal to input, print that row\n",
    "    if number == row[0]:\n",
    "        conid = row[0]\n",
    "        symbol = row[1]\n",
    "        sectype = row[3]\n",
    "        exchange = row[4]\n",
    "        name = row[9]\n",
    "        \n",
    "        #choose yo print\n",
    "        #print(str(conid) + \", \" + str(symbol) + \", \" + str(secType) + \", \" + str(exchange) + \", \" + str(name))\n",
    "        print(\"conid: \" + str(conid))\n",
    "        print(\"symbol: \" + str(symbol))\n",
    "        print(\"name: \" + str(name))\n",
    "        print(\"sectype: \" + str(sectype))\n",
    "        print(\"exchange: \" + str(exchange))"
   ]
  },
  {
   "cell_type": "code",
   "execution_count": null,
   "metadata": {},
   "outputs": [],
   "source": []
  },
  {
   "cell_type": "code",
   "execution_count": null,
   "metadata": {},
   "outputs": [],
   "source": []
  }
 ],
 "metadata": {
  "kernelspec": {
   "display_name": "Python 3",
   "language": "python",
   "name": "python3"
  },
  "language_info": {
   "codemirror_mode": {
    "name": "ipython",
    "version": 3
   },
   "file_extension": ".py",
   "mimetype": "text/x-python",
   "name": "python",
   "nbconvert_exporter": "python",
   "pygments_lexer": "ipython3",
   "version": "3.6.6"
  }
 },
 "nbformat": 4,
 "nbformat_minor": 2
}
